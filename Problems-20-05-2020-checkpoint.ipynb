{
 "cells": [
  {
   "cell_type": "markdown",
   "metadata": {},
   "source": [
    "Geeks for Geeks \n",
    "\n",
    "1.Given an array C of size N-1 and given that there are numbers from 1 to N with one element missing, the missing number is to be found.\n",
    "\n",
    "Input:\n",
    "The first line of input contains an integer T denoting the number of test cases. For each test case first line contains N(size of array). The subsequent line contains N-1 array elements.\n",
    "\n",
    "Output:\n",
    "Print the missing number in array.\n",
    "\n",
    "Constraints:\n",
    "1 ≤ T ≤ 200\n",
    "1 ≤ N ≤ 107\n",
    "1 ≤ C[i] ≤ 107\n",
    "\n",
    "Example:\n",
    "Input:\n",
    "2\n",
    "5\n",
    "1 2 3 5\n",
    "10\n",
    "1 2 3 4 5 6 7 8 10\n",
    "\n",
    "Output:\n",
    "4\n",
    "9\n",
    "\n",
    "Explanation:\n",
    "Testcase 1: Given array : 1 2 3 5. Missing element is 4.\n",
    "\n",
    "** For More Input/Output Examples Use 'Expected Output' option **\n"
   ]
  },
  {
   "cell_type": "code",
   "execution_count": 1,
   "metadata": {},
   "outputs": [
    {
     "name": "stdout",
     "output_type": "stream",
     "text": [
      "2\n",
      "5\n",
      "1 2 3 4\n",
      "5\n",
      "6\n",
      "1 2 3 4 5\n",
      "6\n"
     ]
    }
   ],
   "source": [
    "T=int(input())\n",
    "for test in range(T):\n",
    "    arr_size=int(input())\n",
    "    array=[int(x) for x in input().split()]\n",
    "    sum_of_array=sum(array)\n",
    "    actual_sum=arr_size*(arr_size+1)//2\n",
    "    print(actual_sum-sum_of_array)"
   ]
  },
  {
   "cell_type": "markdown",
   "metadata": {},
   "source": [
    "If an Integer N, write a program to reverse the given number.\n",
    "\n",
    "Input\n",
    "The first line contains an integer T, total number of testcases. Then follow T lines, each line contains an integer N.\n",
    "\n",
    "Output\n",
    "Display the reverse of the given number N.\n",
    "\n",
    "Constraints\n",
    "1 ≤ T ≤ 1000\n",
    "1 ≤ N ≤ 1000000\n",
    "Example\n",
    "Input\n",
    "4\n",
    "12345\n",
    "31203\n",
    "2123\n",
    "2300\n",
    "Output\n",
    "54321\n",
    "30213\n",
    "3212\n",
    "32"
   ]
  },
  {
   "cell_type": "code",
   "execution_count": 2,
   "metadata": {},
   "outputs": [
    {
     "name": "stdout",
     "output_type": "stream",
     "text": [
      "1\n",
      "1531\n",
      "1351\n"
     ]
    }
   ],
   "source": [
    "for i in range(int(input())):\n",
    "    ans=input()\n",
    "    print(int(ans[::-1]))"
   ]
  },
  {
   "cell_type": "markdown",
   "metadata": {},
   "source": [
    "Lapindrome is defined as a string which when split in the middle, gives two halves having the same characters and same frequency of each character. If there are odd number of characters in the string, we ignore the middle character and check for lapindrome. For example gaga is a lapindrome, since the two halves ga and ga have the same characters with same frequency. Also, abccab, rotor and xyzxy are a few examples of lapindromes. Note that abbaab is NOT a lapindrome. The two halves contain the same characters but their frequencies do not match.\n",
    "Your task is simple. Given a string, you need to tell if it is a lapindrome.\n",
    "\n",
    "Input:\n",
    "First line of input contains a single integer T, the number of test cases.\n",
    "Each test is a single line containing a string S composed of only lowercase English alphabet.\n",
    "Output:\n",
    "For each test case, output on a separate line: \"YES\" if the string is a lapindrome and \"NO\" if it is not.\n",
    "Constraints:\n",
    "1 ≤ T ≤ 100\n",
    "2 ≤ |S| ≤ 1000, where |S| denotes the length of S\n",
    "Example:\n",
    "Input:\n",
    "6\n",
    "gaga\n",
    "abcde\n",
    "rotor\n",
    "xyzxy\n",
    "abbaab\n",
    "ababc\n",
    "\n",
    "\n",
    "Output:\n",
    "YES\n",
    "NO\n",
    "YES\n",
    "YES\n",
    "NO\n",
    "NO"
   ]
  },
  {
   "cell_type": "code",
   "execution_count": 4,
   "metadata": {},
   "outputs": [
    {
     "name": "stdout",
     "output_type": "stream",
     "text": [
      "1\n",
      "gaccag\n",
      "YES\n"
     ]
    }
   ],
   "source": [
    "# cook your dish here\n",
    "def freq(s,n):\n",
    "    if n%2==0:\n",
    "        l=s[:n//2]\n",
    "        r=s[n//2:]\n",
    "    else:\n",
    "        l=s[:n//2]\n",
    "        r=s[n//2+1:]\n",
    "    \n",
    "    #print(l,r)\n",
    "    for i in r:\n",
    "        if l.count(i)!=r.count(i):\n",
    "            return False\n",
    "    for i in l:\n",
    "        if l.count(i)!=r.count(i):\n",
    "            return False\n",
    "    return True\n",
    "\n",
    "\n",
    "t=int(input())\n",
    "for i in range(t):\n",
    "    s=input().strip()\n",
    "    n=len(s)\n",
    "    if freq(s,n):\n",
    "        print('YES')\n",
    "    else:\n",
    "        print('NO')\n",
    "    "
   ]
  },
  {
   "cell_type": "markdown",
   "metadata": {},
   "source": [
    "HackerRank (Sock Merchant)  \n",
    "https://www.hackerrank.com/challenges/sock-merchant/problem?h_l=interview&playlist_slugs%5B%5D=interview-preparation-kit&playlist_slugs%5B%5D=warmup"
   ]
  },
  {
   "cell_type": "code",
   "execution_count": 6,
   "metadata": {},
   "outputs": [],
   "source": [
    "# Complete the sockMerchant function below.\n",
    "def sockMerchant(n, ar):\n",
    "    ct=0\n",
    "    ans=[]\n",
    "    for i in ar:\n",
    "        if i not in ans:\n",
    "            ans.append(i)\n",
    "            rem=ar.count(i)%2\n",
    "            if(rem==0 or ar.count(i)>2):\n",
    "                ct+=(ar.count(i)//2)\n",
    "    return ct"
   ]
  },
  {
   "cell_type": "markdown",
   "metadata": {},
   "source": [
    "HackerRank (Jumping on Tthe cloud)  \n",
    "https://www.hackerrank.com/challenges/jumping-on-the-clouds/problem?h_l=interview&playlist_slugs%5B%5D=interview-preparation-kit&playlist_slugs%5B%5D=warmup"
   ]
  },
  {
   "cell_type": "code",
   "execution_count": null,
   "metadata": {},
   "outputs": [],
   "source": [
    "def jumpingOnClouds(c):\n",
    "    ct=0;i=0\n",
    "    while(i<len(c)):\n",
    "        if((i+2)<len(c) and c[i+2]!=1):\n",
    "            ct+=1\n",
    "            i+=2\n",
    "        elif((i+1)<len(c) and c[i+1]!=1):\n",
    "            ct+=1\n",
    "            i+=1\n",
    "        else:\n",
    "            i+=1\n",
    "    print(ct)\n",
    "    return ct"
   ]
  }
 ],
 "metadata": {
  "kernelspec": {
   "display_name": "Python 3",
   "language": "python",
   "name": "python3"
  },
  "language_info": {
   "codemirror_mode": {
    "name": "ipython",
    "version": 3
   },
   "file_extension": ".py",
   "mimetype": "text/x-python",
   "name": "python",
   "nbconvert_exporter": "python",
   "pygments_lexer": "ipython3",
   "version": "3.8.2"
  }
 },
 "nbformat": 4,
 "nbformat_minor": 4
}
